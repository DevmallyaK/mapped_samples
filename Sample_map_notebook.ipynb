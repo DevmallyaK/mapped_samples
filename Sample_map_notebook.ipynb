{
  "nbformat": 4,
  "nbformat_minor": 0,
  "metadata": {
    "colab": {
      "provenance": []
    },
    "kernelspec": {
      "name": "python3",
      "display_name": "Python 3"
    },
    "language_info": {
      "name": "python"
    }
  },
  "cells": [
    {
      "cell_type": "code",
      "execution_count": null,
      "metadata": {
        "id": "VLhU-Fx55MJn"
      },
      "outputs": [],
      "source": [
        "import pandas as pd\n",
        "\n",
        "# Load the files\n",
        "file_1 = pd.read_csv('file_1.csv')\n",
        "file_2 = pd.read_csv('file_2.csv')\n",
        "\n",
        "# Ensure 'Tags' column exists in file_2\n",
        "file_2['Tags'] = None\n",
        "\n",
        "# Split items in 'Headers_Contains' and 'Subject_Not_RE_FW' by commas\n",
        "file_1['Headers_Contains'] = file_1['Headers_Contains'].str.split(',')\n",
        "file_1['Subject_Not_RE_FW'] = file_1['Subject_Not_RE_FW'].str.split(',')\n",
        "\n",
        "# Define a function to check conditions and assign tags\n",
        "def assign_tags(row):\n",
        "    tags = []\n",
        "    for _, rule in file_1.iterrows():\n",
        "        # Check Headers_Contains\n",
        "        if any(header.strip() in row['Headers'] for header in rule['Headers_Contains']):\n",
        "            # Condition 1: Headers_Contains match\n",
        "            tags.append(rule['Tag'])\n",
        "\n",
        "            # Condition 2: Subject_Not_RE_FW not in Subject\n",
        "            if all(subj.strip() not in row['Subject'] for subj in rule['Subject_Not_RE_FW']):\n",
        "                tags.append(rule['Tag'])\n",
        "\n",
        "                # Condition 3: Subject_Contains in Subject\n",
        "                if rule['Subject_Contains'] in row['Subject']:\n",
        "                    tags.append(rule['Tag'])\n",
        "\n",
        "                # Condition 4: Subject_Not_Contains not in Subject\n",
        "                if rule['Subject_Not_Contains'] not in row['Subject']:\n",
        "                    tags.append(rule['Tag'])\n",
        "\n",
        "    return ', '.join(set(tags)) if tags else None\n",
        "\n",
        "# Apply function to each row in file_2\n",
        "file_2['Tags'] = file_2.apply(assign_tags, axis=1)\n",
        "\n",
        "# Save the updated file_2\n",
        "file_2.to_csv('file_2_with_tags.csv', index=False)\n"
      ]
    }
  ]
}